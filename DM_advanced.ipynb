{
  "cells": [
    {
      "cell_type": "code",
      "execution_count": 2,
      "metadata": {
        "id": "7awU0FG8p3uH"
      },
      "outputs": [],
      "source": [
        "import pandas as pd\n",
        "import matplotlib.pyplot as plt"
      ]
    },
    {
      "cell_type": "code",
      "execution_count": 3,
      "metadata": {
        "id": "avo3burAtZNv"
      },
      "outputs": [],
      "source": [
        "df = pd.read_csv('dataset_mood_smartphone.csv')\n"
      ]
    },
    {
      "cell_type": "code",
      "execution_count": 4,
      "metadata": {
        "colab": {
          "base_uri": "https://localhost:8080/",
          "height": 206
        },
        "id": "2Fhamf8SuGHD",
        "outputId": "432f4936-88e1-4fdf-e875-bb2213444dfc"
      },
      "outputs": [
        {
          "data": {
            "text/html": [
              "<div>\n",
              "<style scoped>\n",
              "    .dataframe tbody tr th:only-of-type {\n",
              "        vertical-align: middle;\n",
              "    }\n",
              "\n",
              "    .dataframe tbody tr th {\n",
              "        vertical-align: top;\n",
              "    }\n",
              "\n",
              "    .dataframe thead th {\n",
              "        text-align: right;\n",
              "    }\n",
              "</style>\n",
              "<table border=\"1\" class=\"dataframe\">\n",
              "  <thead>\n",
              "    <tr style=\"text-align: right;\">\n",
              "      <th></th>\n",
              "      <th>Unnamed: 0</th>\n",
              "      <th>id</th>\n",
              "      <th>time</th>\n",
              "      <th>variable</th>\n",
              "      <th>value</th>\n",
              "    </tr>\n",
              "  </thead>\n",
              "  <tbody>\n",
              "    <tr>\n",
              "      <th>0</th>\n",
              "      <td>1</td>\n",
              "      <td>AS14.01</td>\n",
              "      <td>2014-02-26 13:00:00.000</td>\n",
              "      <td>mood</td>\n",
              "      <td>6.0</td>\n",
              "    </tr>\n",
              "    <tr>\n",
              "      <th>1</th>\n",
              "      <td>2</td>\n",
              "      <td>AS14.01</td>\n",
              "      <td>2014-02-26 15:00:00.000</td>\n",
              "      <td>mood</td>\n",
              "      <td>6.0</td>\n",
              "    </tr>\n",
              "    <tr>\n",
              "      <th>2</th>\n",
              "      <td>3</td>\n",
              "      <td>AS14.01</td>\n",
              "      <td>2014-02-26 18:00:00.000</td>\n",
              "      <td>mood</td>\n",
              "      <td>6.0</td>\n",
              "    </tr>\n",
              "    <tr>\n",
              "      <th>3</th>\n",
              "      <td>4</td>\n",
              "      <td>AS14.01</td>\n",
              "      <td>2014-02-26 21:00:00.000</td>\n",
              "      <td>mood</td>\n",
              "      <td>7.0</td>\n",
              "    </tr>\n",
              "    <tr>\n",
              "      <th>4</th>\n",
              "      <td>5</td>\n",
              "      <td>AS14.01</td>\n",
              "      <td>2014-02-27 09:00:00.000</td>\n",
              "      <td>mood</td>\n",
              "      <td>6.0</td>\n",
              "    </tr>\n",
              "  </tbody>\n",
              "</table>\n",
              "</div>"
            ],
            "text/plain": [
              "   Unnamed: 0       id                     time variable  value\n",
              "0           1  AS14.01  2014-02-26 13:00:00.000     mood    6.0\n",
              "1           2  AS14.01  2014-02-26 15:00:00.000     mood    6.0\n",
              "2           3  AS14.01  2014-02-26 18:00:00.000     mood    6.0\n",
              "3           4  AS14.01  2014-02-26 21:00:00.000     mood    7.0\n",
              "4           5  AS14.01  2014-02-27 09:00:00.000     mood    6.0"
            ]
          },
          "execution_count": 4,
          "metadata": {},
          "output_type": "execute_result"
        }
      ],
      "source": [
        "df.head()"
      ]
    },
    {
      "cell_type": "code",
      "execution_count": 5,
      "metadata": {
        "colab": {
          "base_uri": "https://localhost:8080/"
        },
        "id": "GEk_fWyfuLdw",
        "outputId": "96bb853a-7f5d-42c9-b510-c5c535211c24"
      },
      "outputs": [
        {
          "data": {
            "text/plain": [
              "Unnamed: 0      int64\n",
              "id             object\n",
              "time           object\n",
              "variable       object\n",
              "value         float64\n",
              "dtype: object"
            ]
          },
          "execution_count": 5,
          "metadata": {},
          "output_type": "execute_result"
        }
      ],
      "source": [
        "df.dtypes"
      ]
    },
    {
      "cell_type": "markdown",
      "metadata": {
        "id": "725me75puzt7"
      },
      "source": [
        "The datatypes"
      ]
    },
    {
      "cell_type": "code",
      "execution_count": 6,
      "metadata": {
        "colab": {
          "base_uri": "https://localhost:8080/"
        },
        "id": "Wrxd9IVFUa88",
        "outputId": "05b68bb6-b913-452a-8ada-6c200fb86133"
      },
      "outputs": [
        {
          "data": {
            "text/plain": [
              "Unnamed: 0      0\n",
              "id              0\n",
              "time            0\n",
              "variable        0\n",
              "value         202\n",
              "dtype: int64"
            ]
          },
          "execution_count": 6,
          "metadata": {},
          "output_type": "execute_result"
        }
      ],
      "source": [
        "df.isna().sum()"
      ]
    },
    {
      "cell_type": "markdown",
      "metadata": {
        "id": "bIyiRjlAWa23"
      },
      "source": [
        "- 202 missing values in the column \"values\""
      ]
    },
    {
      "cell_type": "code",
      "execution_count": null,
      "metadata": {
        "id": "Nk0p3JuOXwqu"
      },
      "outputs": [],
      "source": []
    },
    {
      "cell_type": "code",
      "execution_count": 7,
      "metadata": {
        "id": "gu7-vZVWvNh8"
      },
      "outputs": [
        {
          "data": {
            "text/html": [
              "<div>\n",
              "<style scoped>\n",
              "    .dataframe tbody tr th:only-of-type {\n",
              "        vertical-align: middle;\n",
              "    }\n",
              "\n",
              "    .dataframe tbody tr th {\n",
              "        vertical-align: top;\n",
              "    }\n",
              "\n",
              "    .dataframe thead th {\n",
              "        text-align: right;\n",
              "    }\n",
              "</style>\n",
              "<table border=\"1\" class=\"dataframe\">\n",
              "  <thead>\n",
              "    <tr style=\"text-align: right;\">\n",
              "      <th></th>\n",
              "      <th>Unnamed: 0</th>\n",
              "      <th>id</th>\n",
              "      <th>time</th>\n",
              "      <th>variable</th>\n",
              "      <th>value</th>\n",
              "    </tr>\n",
              "  </thead>\n",
              "  <tbody>\n",
              "    <tr>\n",
              "      <th>count</th>\n",
              "      <td>3.769120e+05</td>\n",
              "      <td>376912</td>\n",
              "      <td>376912</td>\n",
              "      <td>376912</td>\n",
              "      <td>376710.000000</td>\n",
              "    </tr>\n",
              "    <tr>\n",
              "      <th>unique</th>\n",
              "      <td>NaN</td>\n",
              "      <td>27</td>\n",
              "      <td>336907</td>\n",
              "      <td>19</td>\n",
              "      <td>NaN</td>\n",
              "    </tr>\n",
              "    <tr>\n",
              "      <th>top</th>\n",
              "      <td>NaN</td>\n",
              "      <td>AS14.01</td>\n",
              "      <td>2014-04-14 12:00:00.000</td>\n",
              "      <td>screen</td>\n",
              "      <td>NaN</td>\n",
              "    </tr>\n",
              "    <tr>\n",
              "      <th>freq</th>\n",
              "      <td>NaN</td>\n",
              "      <td>21999</td>\n",
              "      <td>91</td>\n",
              "      <td>96578</td>\n",
              "      <td>NaN</td>\n",
              "    </tr>\n",
              "    <tr>\n",
              "      <th>mean</th>\n",
              "      <td>4.501273e+05</td>\n",
              "      <td>NaN</td>\n",
              "      <td>NaN</td>\n",
              "      <td>NaN</td>\n",
              "      <td>40.665313</td>\n",
              "    </tr>\n",
              "    <tr>\n",
              "      <th>std</th>\n",
              "      <td>5.411519e+05</td>\n",
              "      <td>NaN</td>\n",
              "      <td>NaN</td>\n",
              "      <td>NaN</td>\n",
              "      <td>273.726007</td>\n",
              "    </tr>\n",
              "    <tr>\n",
              "      <th>min</th>\n",
              "      <td>1.000000e+00</td>\n",
              "      <td>NaN</td>\n",
              "      <td>NaN</td>\n",
              "      <td>NaN</td>\n",
              "      <td>-82798.871000</td>\n",
              "    </tr>\n",
              "    <tr>\n",
              "      <th>25%</th>\n",
              "      <td>9.422875e+04</td>\n",
              "      <td>NaN</td>\n",
              "      <td>NaN</td>\n",
              "      <td>NaN</td>\n",
              "      <td>2.025000</td>\n",
              "    </tr>\n",
              "    <tr>\n",
              "      <th>50%</th>\n",
              "      <td>2.274385e+05</td>\n",
              "      <td>NaN</td>\n",
              "      <td>NaN</td>\n",
              "      <td>NaN</td>\n",
              "      <td>7.029000</td>\n",
              "    </tr>\n",
              "    <tr>\n",
              "      <th>75%</th>\n",
              "      <td>5.160412e+05</td>\n",
              "      <td>NaN</td>\n",
              "      <td>NaN</td>\n",
              "      <td>NaN</td>\n",
              "      <td>29.356000</td>\n",
              "    </tr>\n",
              "    <tr>\n",
              "      <th>max</th>\n",
              "      <td>1.427711e+07</td>\n",
              "      <td>NaN</td>\n",
              "      <td>NaN</td>\n",
              "      <td>NaN</td>\n",
              "      <td>33960.246000</td>\n",
              "    </tr>\n",
              "  </tbody>\n",
              "</table>\n",
              "</div>"
            ],
            "text/plain": [
              "          Unnamed: 0       id                     time variable          value\n",
              "count   3.769120e+05   376912                   376912   376912  376710.000000\n",
              "unique           NaN       27                   336907       19            NaN\n",
              "top              NaN  AS14.01  2014-04-14 12:00:00.000   screen            NaN\n",
              "freq             NaN    21999                       91    96578            NaN\n",
              "mean    4.501273e+05      NaN                      NaN      NaN      40.665313\n",
              "std     5.411519e+05      NaN                      NaN      NaN     273.726007\n",
              "min     1.000000e+00      NaN                      NaN      NaN  -82798.871000\n",
              "25%     9.422875e+04      NaN                      NaN      NaN       2.025000\n",
              "50%     2.274385e+05      NaN                      NaN      NaN       7.029000\n",
              "75%     5.160412e+05      NaN                      NaN      NaN      29.356000\n",
              "max     1.427711e+07      NaN                      NaN      NaN   33960.246000"
            ]
          },
          "execution_count": 7,
          "metadata": {},
          "output_type": "execute_result"
        }
      ],
      "source": [
        "df.describe(include=\"all\")"
      ]
    },
    {
      "cell_type": "code",
      "execution_count": 14,
      "metadata": {
        "colab": {
          "base_uri": "https://localhost:8080/",
          "height": 392
        },
        "id": "mmeGw2l-vRX-",
        "outputId": "0563b536-a3a7-40c7-d8ab-e514ed6f1ae1"
      },
      "outputs": [
        {
          "name": "stderr",
          "output_type": "stream",
          "text": [
            "/var/folders/8q/v2_821r57sl99cmfwhtgcym40000gn/T/ipykernel_53832/16994401.py:7: MatplotlibDeprecationWarning: Auto-removal of overlapping axes is deprecated since 3.6 and will be removed two minor releases later; explicitly call ax.remove() as needed.\n",
            "  plt.subplot(2,2,1)\n",
            "/var/folders/8q/v2_821r57sl99cmfwhtgcym40000gn/T/ipykernel_53832/16994401.py:16: MatplotlibDeprecationWarning: Auto-removal of overlapping axes is deprecated since 3.6 and will be removed two minor releases later; explicitly call ax.remove() as needed.\n",
            "  plt.subplot(2,2,2)\n"
          ]
        },
        {
          "data": {
            "image/png": "[encoded data removed]",
            "text/plain": [
              "<Figure size 1500x500 with 2 Axes>"
            ]
          },
          "metadata": {},
          "output_type": "display_data"
        }
      ],
      "source": [
        "fig,ax = plt.subplots(1,2,figsize=[15,5])\n",
        "\n",
        "\n",
        "x = df['id'].value_counts()\n",
        "cols = [i for i in x.axes[0]]\n",
        "vals = [i for i in x]\n",
        "plt.subplot(2,2,1)\n",
        "plt.bar(cols, vals, width = 0.4) \n",
        "plt.xlabel(\"ID\")\n",
        "plt.ylabel(\"Count\")\n",
        "plt.xticks(rotation=90)\n",
        "\n",
        "x = df['variable'].value_counts()\n",
        "cols = [i for i in x.axes[0]]\n",
        "vals = [i for i in x]\n",
        "plt.subplot(2,2,2)\n",
        "plt.bar(cols, vals, width = 0.4)\n",
        "plt.xlabel(\"Variable\")\n",
        "plt.ylabel(\"Count\")\n",
        "plt.xticks(rotation=90)\n",
        "\n",
        "plt.show()\n"
      ]
    },
    {
      "cell_type": "code",
      "execution_count": 15,
      "metadata": {
        "id": "k_m-R5g8cQv9"
      },
      "outputs": [
        {
          "data": {
            "text/plain": [
              "0         AS14.01\n",
              "1         AS14.01\n",
              "2         AS14.01\n",
              "3         AS14.01\n",
              "4         AS14.01\n",
              "           ...   \n",
              "376907    AS14.30\n",
              "376908    AS14.30\n",
              "376909    AS14.30\n",
              "376910    AS14.30\n",
              "376911    AS14.32\n",
              "Name: id, Length: 376912, dtype: object"
            ]
          },
          "execution_count": 15,
          "metadata": {},
          "output_type": "execute_result"
        }
      ],
      "source": []
    },
    {
      "cell_type": "code",
      "execution_count": null,
      "metadata": {},
      "outputs": [],
      "source": []
    }
  ],
  "metadata": {
    "colab": {
      "provenance": []
    },
    "kernelspec": {
      "display_name": "Python 3",
      "name": "python3"
    },
    "language_info": {
      "codemirror_mode": {
        "name": "ipython",
        "version": 3
      },
      "file_extension": ".py",
      "mimetype": "text/x-python",
      "name": "python",
      "nbconvert_exporter": "python",
      "pygments_lexer": "ipython3",
      "version": "3.10.7"
    }
  },
  "nbformat": 4,
  "nbformat_minor": 0
}
